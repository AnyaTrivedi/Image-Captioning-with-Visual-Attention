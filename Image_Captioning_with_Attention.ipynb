{
  "nbformat": 4,
  "nbformat_minor": 0,
  "metadata": {
    "colab": {
      "name": "Image Captioning with Attention.ipynb",
      "provenance": [],
      "collapsed_sections": []
    },
    "kernelspec": {
      "name": "python3",
      "display_name": "Python 3"
    },
    "accelerator": "GPU"
  },
  "cells": [
    {
      "cell_type": "markdown",
      "metadata": {
        "id": "-Udgr-fyhEoQ",
        "colab_type": "text"
      },
      "source": [
        "# Image Captioning with Attention\n",
        "\n",
        "Using an attention based Inception V3 model to caption the MS-COCO Dataset\n"
      ]
    },
    {
      "cell_type": "code",
      "metadata": {
        "id": "4kHYGqkNhXLo",
        "colab_type": "code",
        "colab": {}
      },
      "source": [
        "#Import Dependencies\n",
        "\n",
        "import tensorflow as tf\n",
        "\n",
        "# Plots of attention \n",
        "import matplotlib.pyplot as plt\n",
        "\n",
        "\n",
        "from sklearn.model_selection import train_test_split\n",
        "from sklearn.utils import shuffle\n",
        "\n",
        "import re\n",
        "import numpy as np\n",
        "import os\n",
        "import time\n",
        "import json\n",
        "\n",
        "#finding Pathnames\n",
        "from glob import glob\n",
        "\n",
        "from PIL import Image\n",
        "\n",
        "#pickle helps (de)serialise python objects\n",
        "import pickle"
      ],
      "execution_count": 2,
      "outputs": []
    },
    {
      "cell_type": "markdown",
      "metadata": {
        "id": "Z-QaNwfAhyxS",
        "colab_type": "text"
      },
      "source": [
        "## Download MS-COCO Dataset"
      ]
    },
    {
      "cell_type": "code",
      "metadata": {
        "id": "t777hSlkhsAn",
        "colab_type": "code",
        "colab": {
          "base_uri": "https://localhost:8080/",
          "height": 51
        },
        "outputId": "33cd106a-8dc9-4fd4-c5c4-91a0eb3242e0"
      },
      "source": [
        "# Download caption annotation files\n",
        "annotation_folder = '/annotations/'\n",
        "if not os.path.exists(os.path.abspath('.') + annotation_folder):\n",
        "  annotation_zip = tf.keras.utils.get_file('captions.zip',\n",
        "                                          cache_subdir=os.path.abspath('.'),\n",
        "                                          origin = 'http://images.cocodataset.org/annotations/annotations_trainval2014.zip',\n",
        "                                          extract = True)\n",
        "  annotation_file = os.path.dirname(annotation_zip)+'/annotations/captions_train2014.json'\n",
        "  os.remove(annotation_zip)"
      ],
      "execution_count": 3,
      "outputs": [
        {
          "output_type": "stream",
          "text": [
            "Downloading data from http://images.cocodataset.org/annotations/annotations_trainval2014.zip\n",
            "252878848/252872794 [==============================] - 8s 0us/step\n"
          ],
          "name": "stdout"
        }
      ]
    },
    {
      "cell_type": "code",
      "metadata": {
        "id": "bV1JqqsTh8IM",
        "colab_type": "code",
        "colab": {
          "base_uri": "https://localhost:8080/",
          "height": 51
        },
        "outputId": "02dd8106-ff4a-4488-d2b5-a2f6e69c8f6d"
      },
      "source": [
        "# Download image files\n",
        "image_folder = '/train2014/'\n",
        "if not os.path.exists(os.path.abspath('.') + image_folder):\n",
        "  image_zip = tf.keras.utils.get_file('train2014.zip',\n",
        "                                      cache_subdir=os.path.abspath('.'),\n",
        "                                      origin = 'http://images.cocodataset.org/zips/train2014.zip',\n",
        "                                      extract = True)\n",
        "  PATH = os.path.dirname(image_zip) + image_folder\n",
        "  os.remove(image_zip)\n",
        "else:\n",
        "  PATH = os.path.abspath('.') + image_folder"
      ],
      "execution_count": 4,
      "outputs": [
        {
          "output_type": "stream",
          "text": [
            "Downloading data from http://images.cocodataset.org/zips/train2014.zip\n",
            "13510574080/13510573713 [==============================] - 371s 0us/step\n"
          ],
          "name": "stdout"
        }
      ]
    },
    {
      "cell_type": "markdown",
      "metadata": {
        "id": "_Z7TQEpRiBbk",
        "colab_type": "text"
      },
      "source": [
        "## Prepare Dataset"
      ]
    },
    {
      "cell_type": "code",
      "metadata": {
        "id": "di8SLNT9h_Pu",
        "colab_type": "code",
        "colab": {}
      },
      "source": [
        "# Read the json file\n",
        "with open(annotation_file, 'r') as f:\n",
        "    annotations = json.load(f)\n",
        "\n",
        "# Store captions and image names in vectors\n",
        "all_captions = []\n",
        "all_img_name_vector = []\n",
        "\n",
        "for annot in annotations['annotations']:\n",
        "    caption = '<start> ' + annot['caption'] + ' <end>'\n",
        "    image_id = annot['image_id']\n",
        "    full_coco_image_path = PATH + 'COCO_train2014_' + '%012d.jpg' % (image_id)\n",
        "\n",
        "    all_img_name_vector.append(full_coco_image_path)\n",
        "    all_captions.append(caption)\n",
        "\n",
        "# Shuffle captions and image names and set random seed\n",
        "train_captions, img_name_vector = shuffle(all_captions,\n",
        "                                          all_img_name_vector,\n",
        "                                          random_state=1)"
      ],
      "execution_count": 5,
      "outputs": []
    },
    {
      "cell_type": "code",
      "metadata": {
        "id": "7Iqyr80viUBW",
        "colab_type": "code",
        "colab": {}
      },
      "source": [
        "# OPTIONAL: Select the first 30000 captions from the shuffled set\n",
        "# more training examples increases time but gives better accuracy \n",
        "num_examples = 30000\n",
        "train_captions = train_captions[:num_examples]\n",
        "img_name_vector = img_name_vector[:num_examples]"
      ],
      "execution_count": 6,
      "outputs": []
    },
    {
      "cell_type": "code",
      "metadata": {
        "id": "z_9ENmGrijRI",
        "colab_type": "code",
        "colab": {
          "base_uri": "https://localhost:8080/",
          "height": 51
        },
        "outputId": "4f4ef075-71a9-4768-d7ea-c233234c18d5"
      },
      "source": [
        "print('Number of training caption examples: ', len(train_captions))\n",
        "print('Total captions: ', len(all_captions)) "
      ],
      "execution_count": 7,
      "outputs": [
        {
          "output_type": "stream",
          "text": [
            "Number of training caption examples:  30000\n",
            "Total captions:  414113\n"
          ],
          "name": "stdout"
        }
      ]
    },
    {
      "cell_type": "markdown",
      "metadata": {
        "id": "XUuKmF2GiyNF",
        "colab_type": "text"
      },
      "source": [
        "## Preprocess the images using InceptionV3"
      ]
    },
    {
      "cell_type": "markdown",
      "metadata": {
        "id": "UxYgvEHji8Nl",
        "colab_type": "text"
      },
      "source": [
        "InceptionV3's expected format:\n",
        "\n",
        "*   Image size 299 x 299 px : Resize image\n",
        "*   Pixel range -1 to 1 : use the preprocess_input method to normalise\n",
        "\n"
      ]
    },
    {
      "cell_type": "code",
      "metadata": {
        "id": "6jIYBTKhja5D",
        "colab_type": "code",
        "colab": {}
      },
      "source": [
        "def load_image(image_path):\n",
        "  img = tf.io.read_file(image_path)\n",
        "  img = tf.image.decode_jpeg(img, channels = 3)\n",
        "  img = tf.image.resize(img, (299,299))\n",
        "  img = tf.keras.applications.inception_v3.preprocess_input(img)\n",
        "  return img, image_path"
      ],
      "execution_count": 8,
      "outputs": []
    },
    {
      "cell_type": "markdown",
      "metadata": {
        "id": "-JKcQ5xTk62r",
        "colab_type": "text"
      },
      "source": [
        "## Initialise InceptionV3 and load pretrained Imagenet weights"
      ]
    },
    {
      "cell_type": "markdown",
      "metadata": {
        "id": "MAJq7sZvlEou",
        "colab_type": "text"
      },
      "source": [
        "Creating a tf.keras model where output layer is last convolutional layer of the InceptionV3 architecture, shape (8x8x2048). This layer is used for attention\n",
        "\n"
      ]
    },
    {
      "cell_type": "markdown",
      "metadata": {
        "id": "D7FPKkr-lyCo",
        "colab_type": "text"
      },
      "source": [
        "Do not perform this initialisation during training, it could become a bottleneck"
      ]
    },
    {
      "cell_type": "code",
      "metadata": {
        "id": "1JYqg3qlk2j_",
        "colab_type": "code",
        "colab": {
          "base_uri": "https://localhost:8080/",
          "height": 71
        },
        "outputId": "6c396750-cac7-4d5c-d3eb-c99d7ee8b8bf"
      },
      "source": [
        "image_model = tf.keras.applications.InceptionV3(include_top = False, weights ='imagenet')\n",
        "\n",
        "new_input = image_model.input\n",
        "\n",
        "hidden_layer = image_model.layers[-1].output\n",
        "\n",
        "image_features_extract_model = tf.keras.Model(new_input, hidden_layer)"
      ],
      "execution_count": 9,
      "outputs": [
        {
          "output_type": "stream",
          "text": [
            "Downloading data from https://storage.googleapis.com/tensorflow/keras-applications/inception_v3/inception_v3_weights_tf_dim_ordering_tf_kernels_notop.h5\n",
            "87916544/87910968 [==============================] - 3s 0us/step\n"
          ],
          "name": "stdout"
        }
      ]
    },
    {
      "cell_type": "markdown",
      "metadata": {
        "id": "7ctcxSFimkjf",
        "colab_type": "text"
      },
      "source": [
        "## Cache extracted features"
      ]
    },
    {
      "cell_type": "markdown",
      "metadata": {
        "id": "v0S42AF2msQR",
        "colab_type": "text"
      },
      "source": [
        "Cache on disk. RAM would be faster but would require 8x8x2048 floats per image so nah"
      ]
    },
    {
      "cell_type": "code",
      "metadata": {
        "id": "scOIiGQgmZFm",
        "colab_type": "code",
        "colab": {}
      },
      "source": [
        "#Adding a progress bar to make life easy\n",
        "\n",
        "!pip install -q tqdm\n",
        "\n",
        "from tqdm import tqdm"
      ],
      "execution_count": 10,
      "outputs": []
    },
    {
      "cell_type": "code",
      "metadata": {
        "id": "Xrflne-hm5xY",
        "colab_type": "code",
        "colab": {
          "base_uri": "https://localhost:8080/",
          "height": 34
        },
        "outputId": "61aaef9f-994d-49f5-cfbf-8387fcbf26b8"
      },
      "source": [
        "#get sorted unique names\n",
        "encode_train = sorted(set(img_name_vector))\n",
        "\n",
        "image_dataset = tf.data.Dataset.from_tensor_slices(encode_train)\n",
        "#AUTOTUNE automatically tunes performance knobs\n",
        "image_dataset = image_dataset.map(load_image, num_parallel_calls = tf.data.experimental.AUTOTUNE).batch(16)\n",
        "\n",
        "#if not using the progress bar, simply use for img, path in image_dataset\n",
        "for img, path in tqdm(image_dataset):\n",
        "  batch_features = image_features_extract_model(img)\n",
        "  batch_features = tf.reshape(batch_features, (batch_features.shape[0], -1, batch_features.shape[3]))\n",
        "\n",
        "  for bf,p in zip(batch_features, path):\n",
        "    path_of_feature = p.numpy().decode('utf-8')\n",
        "    np.save(path_of_feature, bf.numpy())"
      ],
      "execution_count": 11,
      "outputs": [
        {
          "output_type": "stream",
          "text": [
            "100%|██████████| 1622/1622 [05:33<00:00,  4.86it/s]\n"
          ],
          "name": "stderr"
        }
      ]
    },
    {
      "cell_type": "markdown",
      "metadata": {
        "id": "XvJGVTL6oZzb",
        "colab_type": "text"
      },
      "source": [
        "## Preprocess Text"
      ]
    },
    {
      "cell_type": "markdown",
      "metadata": {
        "id": "huyspFq2oiHT",
        "colab_type": "text"
      },
      "source": [
        "Preprocessing includes:\n",
        "\n",
        "\n",
        "1.   Tokenising\n",
        "2.   Limit vocab size to 5,00 words, other words replaced with 'UNK'\n",
        "3.   Word-to-index and Index-to-word mappings\n",
        "4.   Pad all sequences to be the same length (as longest sentence)\n",
        "\n"
      ]
    },
    {
      "cell_type": "code",
      "metadata": {
        "id": "sfzI2tUfjyOY",
        "colab_type": "code",
        "colab": {}
      },
      "source": [
        "#Finding max length of caption\n",
        "\n",
        "def calc_max_length(tensor):\n",
        "  return max(len(t) for t in tensor)"
      ],
      "execution_count": 12,
      "outputs": []
    },
    {
      "cell_type": "code",
      "metadata": {
        "id": "Yk_ZSLpZobn0",
        "colab_type": "code",
        "colab": {}
      },
      "source": [
        "#Choose top 5000 words from vocabulary\n",
        "\n",
        "top_k = 5000\n",
        "tokenizer = tf.keras.preprocessing.text.Tokenizer(num_words = top_k,\n",
        "                                                   oov_token = '<unk>',\n",
        "                                                   filters = '!\"#$%&()*+.,-/:;=?@[\\]^_`{|}~')\n",
        "tokenizer.fit_on_texts(train_captions)\n",
        "train_seqs = tokenizer.texts_to_sequences(train_captions)"
      ],
      "execution_count": 13,
      "outputs": []
    },
    {
      "cell_type": "code",
      "metadata": {
        "id": "rZ92Jarkp2su",
        "colab_type": "code",
        "colab": {}
      },
      "source": [
        "tokenizer.word_index['<pad>'] = 0\n",
        "tokenizer.index_word[0] = '<pad>'"
      ],
      "execution_count": 14,
      "outputs": []
    },
    {
      "cell_type": "code",
      "metadata": {
        "id": "_o47P3MxqDsQ",
        "colab_type": "code",
        "colab": {}
      },
      "source": [
        "#Create tokenized vectors\n",
        "train_seqs = tokenizer.texts_to_sequences(train_captions)\n",
        "\n",
        "#Pad to maxlength of captions (pad_sequences calculated automatically), apply padding at the end\n",
        "cap_vector = tf.keras.preprocessing.sequence.pad_sequences(train_seqs, padding ='post')\n",
        "\n",
        "#calculate max length, USED TO STORE THE ATTENTION WEIGHTS\n",
        "max_length = calc_max_length(train_seqs)"
      ],
      "execution_count": 15,
      "outputs": []
    },
    {
      "cell_type": "markdown",
      "metadata": {
        "id": "wLBCoVc_q1T4",
        "colab_type": "text"
      },
      "source": [
        "## Split Training and Testing Data"
      ]
    },
    {
      "cell_type": "code",
      "metadata": {
        "id": "v30jKCb8jqM2",
        "colab_type": "code",
        "colab": {
          "base_uri": "https://localhost:8080/",
          "height": 122
        },
        "outputId": "c87338e7-45a6-445e-c5ee-d548f49fe945"
      },
      "source": [
        "from google.colab import drive\n",
        "drive.mount('/content/drive')"
      ],
      "execution_count": 17,
      "outputs": [
        {
          "output_type": "stream",
          "text": [
            "Go to this URL in a browser: https://accounts.google.com/o/oauth2/auth?client_id=947318989803-6bn6qk8qdgf4n4g3pfee6491hc0brc4i.apps.googleusercontent.com&redirect_uri=urn%3aietf%3awg%3aoauth%3a2.0%3aoob&scope=email%20https%3a%2f%2fwww.googleapis.com%2fauth%2fdocs.test%20https%3a%2f%2fwww.googleapis.com%2fauth%2fdrive%20https%3a%2f%2fwww.googleapis.com%2fauth%2fdrive.photos.readonly%20https%3a%2f%2fwww.googleapis.com%2fauth%2fpeopleapi.readonly&response_type=code\n",
            "\n",
            "Enter your authorization code:\n",
            "··········\n",
            "Mounted at /content/drive\n"
          ],
          "name": "stdout"
        }
      ]
    },
    {
      "cell_type": "code",
      "metadata": {
        "id": "-Tof5eqhquoh",
        "colab_type": "code",
        "colab": {}
      },
      "source": [
        "#Training and validation using 80-20 split\n",
        "\n",
        "img_name_train, img_name_val, cap_train, cap_val = train_test_split(img_name_vector, cap_vector, test_size = 0.2, random_state =0)"
      ],
      "execution_count": 18,
      "outputs": []
    },
    {
      "cell_type": "code",
      "metadata": {
        "id": "H1jiNJncrQ-2",
        "colab_type": "code",
        "colab": {
          "base_uri": "https://localhost:8080/",
          "height": 34
        },
        "outputId": "bb3008dc-e4e9-46e5-8315-5030adfc8455"
      },
      "source": [
        "len(img_name_train), len(cap_train), len(img_name_val), len(cap_val)"
      ],
      "execution_count": 19,
      "outputs": [
        {
          "output_type": "execute_result",
          "data": {
            "text/plain": [
              "(24000, 24000, 6000, 6000)"
            ]
          },
          "metadata": {
            "tags": []
          },
          "execution_count": 19
        }
      ]
    },
    {
      "cell_type": "markdown",
      "metadata": {
        "id": "p_EX-I-draF5",
        "colab_type": "text"
      },
      "source": [
        "## Creating Training Dataset"
      ]
    },
    {
      "cell_type": "code",
      "metadata": {
        "id": "CdIeTBGVrYeb",
        "colab_type": "code",
        "colab": {}
      },
      "source": [
        "#Parameters\n",
        "\n",
        "BATCH_SIZE = 64\n",
        "BUFFER_SIZE = 1000\n",
        "embedding_dim = 256\n",
        "units = 512\n",
        "vocab_size = top_k + 1\n",
        "num_steps = len(img_name_train) // BATCH_SIZE\n",
        "\n",
        "# Shape of the vector extracted from InceptionV3 is (64, 2048), represented by the two variables\n",
        "features_shape = 2048\n",
        "attention_features_shape = 64\n",
        "\n"
      ],
      "execution_count": 20,
      "outputs": []
    },
    {
      "cell_type": "code",
      "metadata": {
        "id": "OOGX5s0jrr2U",
        "colab_type": "code",
        "colab": {}
      },
      "source": [
        "#load files\n",
        "\n",
        "def map_func(img_name, cap):\n",
        "  img_tensor = np.load(img_name.decode('utf-8')+'.npy')\n",
        "  return img_tensor, cap"
      ],
      "execution_count": 21,
      "outputs": []
    },
    {
      "cell_type": "code",
      "metadata": {
        "id": "0cfBa7WLsBsW",
        "colab_type": "code",
        "colab": {}
      },
      "source": [
        "dataset = tf.data.Dataset.from_tensor_slices((img_name_train, cap_train))\n",
        "\n",
        "# map loads the numpy files in parallel\n",
        "dataset = dataset.map(lambda item1, item2: tf.numpy_function(\n",
        "          map_func, [item1, item2], [tf.float32, tf.int32]),\n",
        "          num_parallel_calls=tf.data.experimental.AUTOTUNE)\n",
        "\n",
        "# Shuffle and batch\n",
        "dataset = dataset.shuffle(BUFFER_SIZE).batch(BATCH_SIZE)\n",
        "dataset = dataset.prefetch(buffer_size=tf.data.experimental.AUTOTUNE)"
      ],
      "execution_count": 32,
      "outputs": []
    },
    {
      "cell_type": "markdown",
      "metadata": {
        "id": "TdIuE1JbnPqO",
        "colab_type": "text"
      },
      "source": [
        "## Building the Model"
      ]
    },
    {
      "cell_type": "markdown",
      "metadata": {
        "id": "de-H9P3jnSLJ",
        "colab_type": "text"
      },
      "source": [
        "This model is based on the [Show, Attend and Tell](https://arxiv.org/pdf/1502.03044.pdf) model using [Bahdanau attention](https://arxiv.org/pdf/1409.0473.pdf)"
      ]
    },
    {
      "cell_type": "code",
      "metadata": {
        "id": "0XjvL7Shs8_R",
        "colab_type": "code",
        "colab": {}
      },
      "source": [
        "class BahdanauAttention(tf.keras.Model):\n",
        "  #extract features from the lower convolutional layer of InceptionV3 (shape (8,8,2048)\n",
        "  #Squash to shape (64,2048)\n",
        "  def __init__(self, units):\n",
        "    super(BahdanauAttention, self).__init__()\n",
        "    self.W1 = tf.keras.layers.Dense(units)\n",
        "    self.W2 = tf.keras.layers.Dense(units)\n",
        "    self.V = tf.keras.layers.Dense(1)\n",
        "\n",
        "  def call(self, features, hidden):\n",
        "    # features(CNN_encoder output) shape == (batch_size, 64, embedding_dim)\n",
        "\n",
        "    # hidden shape == (batch_size, hidden_size)\n",
        "    # hidden_with_time_axis shape == (batch_size, 1, hidden_size)\n",
        "    hidden_with_time_axis = tf.expand_dims(hidden, 1)\n",
        "\n",
        "    # score shape == (batch_size, 64, hidden_size)\n",
        "    score = tf.nn.tanh(self.W1(features) + self.W2(hidden_with_time_axis))\n",
        "\n",
        "    # attention_weights shape == (batch_size, 64, 1)\n",
        "    # you get 1 at the last axis because you are applying score to self.V\n",
        "    attention_weights = tf.nn.softmax(self.V(score), axis=1)\n",
        "\n",
        "    # context_vector shape after sum == (batch_size, hidden_size)\n",
        "    context_vector = attention_weights * features\n",
        "    context_vector = tf.reduce_sum(context_vector, axis=1)\n",
        "\n",
        "    return context_vector, attention_weights"
      ],
      "execution_count": 33,
      "outputs": []
    },
    {
      "cell_type": "code",
      "metadata": {
        "id": "5uakbzvRoj62",
        "colab_type": "code",
        "colab": {}
      },
      "source": [
        "class CNN_Encoder(tf.keras.Model):\n",
        "  #Features have been extracted and dumped using features\n",
        "  #Here features are passed through the CNN encoder, which is one fully connected layer\n",
        "   \n",
        "  def __init__(self, embedding_dim):\n",
        "        super(CNN_Encoder, self).__init__()\n",
        "        #shape after fc == (batch_size, 64, embedding_dim)\"\n",
        "        self.fc = tf.keras.layers.Dense(embedding_dim)\n",
        "\n",
        "  def call(self, x):\n",
        "        x = self.fc(x)\n",
        "        x = tf.nn.relu(x)\n",
        "        return x"
      ],
      "execution_count": 34,
      "outputs": []
    },
    {
      "cell_type": "code",
      "metadata": {
        "id": "1mwYTla5pFsT",
        "colab_type": "code",
        "colab": {}
      },
      "source": [
        "class RNN_Decoder(tf.keras.Model):\n",
        "  #RNN attends over image to predict next word\n",
        "  def __init__(self, embedding_dim, units, vocab_size):\n",
        "    super(RNN_Decoder, self).__init__()\n",
        "    self.units = units\n",
        "\n",
        "    self.embedding = tf.keras.layers.Embedding(vocab_size, embedding_dim)\n",
        "    self.gru = tf.keras.layers.GRU(self.units,\n",
        "                                   return_sequences=True,\n",
        "                                   return_state=True,\n",
        "                                   recurrent_initializer='glorot_uniform')\n",
        "    self.fc1 = tf.keras.layers.Dense(self.units)\n",
        "    self.fc2 = tf.keras.layers.Dense(vocab_size)\n",
        "\n",
        "    self.attention = BahdanauAttention(self.units)\n",
        "\n",
        "  def call(self, x, features, hidden):\n",
        "    #define attention as a separate model\n",
        "    context_vector, attention_weights = self.attention(features, hidden)\n",
        "\n",
        "    #x shape after passing through embedding == (batch_size, 1, embedding_dim)\n",
        "    x = self.embedding(x)\n",
        "\n",
        "    # x shape after concatenation == (batch_size, 1, embedding_dim + hidden_size)\n",
        "    x = tf.concat([tf.expand_dims(context_vector, 1), x], axis=-1)\n",
        "\n",
        "    # passing the concatenated vector to the GRU\n",
        "    output, state = self.gru(x)\n",
        "\n",
        "    # shape == (batch_size, max_length, hidden_size)\n",
        "    x = self.fc1(output)\n",
        "\n",
        "    # x shape == (batch_size * max_length, hidden_size)\n",
        "    x = tf.reshape(x, (-1, x.shape[2]))\n",
        "\n",
        "    # output shape == (batch_size * max_length, vocab)\n",
        "    x = self.fc2(x)\n",
        "\n",
        "    return x, state, attention_weights\n",
        "\n",
        "  def reset_state(self, batch_size):\n",
        "    return tf.zeros((batch_size, self.units))"
      ],
      "execution_count": 35,
      "outputs": []
    },
    {
      "cell_type": "code",
      "metadata": {
        "id": "ncyv8bakpjKF",
        "colab_type": "code",
        "colab": {}
      },
      "source": [
        "#initialise encoder and decoder\n",
        "encoder = CNN_Encoder(embedding_dim)\n",
        "decoder = RNN_Decoder(embedding_dim, units, vocab_size)"
      ],
      "execution_count": 36,
      "outputs": []
    },
    {
      "cell_type": "code",
      "metadata": {
        "id": "j8qn-xwpplUI",
        "colab_type": "code",
        "colab": {}
      },
      "source": [
        "#using Adam optimizer\n",
        "optimizer = tf.keras.optimizers.Adam()\n",
        "loss_object = tf.keras.losses.SparseCategoricalCrossentropy(\n",
        "    from_logits=True, reduction='none')\n",
        "\n",
        "def loss_function(real, pred):\n",
        "  mask = tf.math.logical_not(tf.math.equal(real, 0))\n",
        "  loss_ = loss_object(real, pred)\n",
        "\n",
        "  mask = tf.cast(mask, dtype=loss_.dtype)\n",
        "  loss_ *= mask\n",
        "\n",
        "  return tf.reduce_mean(loss_)"
      ],
      "execution_count": 37,
      "outputs": []
    },
    {
      "cell_type": "markdown",
      "metadata": {
        "id": "5lQdgKNuqDJz",
        "colab_type": "text"
      },
      "source": [
        "### Checkpoint"
      ]
    },
    {
      "cell_type": "code",
      "metadata": {
        "id": "FgeaS331pr3i",
        "colab_type": "code",
        "colab": {}
      },
      "source": [
        "checkpoint_path = \"./checkpoints/train\"\n",
        "ckpt = tf.train.Checkpoint(encoder=encoder,\n",
        "                           decoder=decoder,\n",
        "                           optimizer = optimizer)\n",
        "ckpt_manager = tf.train.CheckpointManager(ckpt, checkpoint_path, max_to_keep=5)\n",
        "\n",
        "start_epoch = 0\n",
        "if ckpt_manager.latest_checkpoint:\n",
        "  start_epoch = int(ckpt_manager.latest_checkpoint.split('-')[-1])\n",
        "  # restoring the latest checkpoint in checkpoint_path\n",
        "  ckpt.restore(ckpt_manager.latest_checkpoint)"
      ],
      "execution_count": 38,
      "outputs": []
    },
    {
      "cell_type": "markdown",
      "metadata": {
        "id": "volnptCwqRN1",
        "colab_type": "text"
      },
      "source": [
        "## Training\n",
        "\n",
        "\n",
        "1.   Extract features from .npy files and pass to encoder\n",
        "2.   Encoder output, hidden state (initialuzed to 0), decoder input (start token) passed to decoder, which returns predictions and decoder hidden state\n",
        "3. Decoder hidden state passed back to model; predictions used to calculate loss\n",
        "4. Use Teacher forcing (Target word passed as next input to decoder) \n",
        "5. Calculate graduents, backprop and optimize\n",
        "\n"
      ]
    },
    {
      "cell_type": "code",
      "metadata": {
        "id": "fQMKVJKWqKnZ",
        "colab_type": "code",
        "colab": {}
      },
      "source": [
        "# adding this in a separate cell because if training cell is run many times, the loss_plot array will be reset\n",
        "loss_plot = []"
      ],
      "execution_count": 39,
      "outputs": []
    },
    {
      "cell_type": "code",
      "metadata": {
        "id": "O4u7fb42rURN",
        "colab_type": "code",
        "colab": {}
      },
      "source": [
        "@tf.function\n",
        "def train_step(img_tensor, target):\n",
        "  loss = 0\n",
        "\n",
        "  # initializing the hidden state for each batch because the captions are not related from image to image\n",
        "  hidden = decoder.reset_state(batch_size=target.shape[0])\n",
        "\n",
        "  dec_input = tf.expand_dims([tokenizer.word_index['<start>']] * target.shape[0], 1)\n",
        "\n",
        "  with tf.GradientTape() as tape:\n",
        "      features = encoder(img_tensor)\n",
        "\n",
        "      for i in range(1, target.shape[1]):\n",
        "          # passing the features through the decoder\n",
        "          predictions, hidden, _ = decoder(dec_input, features, hidden)\n",
        "\n",
        "          loss += loss_function(target[:, i], predictions)\n",
        "\n",
        "          # using teacher forcing\n",
        "          dec_input = tf.expand_dims(target[:, i], 1)\n",
        "\n",
        "  total_loss = (loss / int(target.shape[1]))\n",
        "\n",
        "  trainable_variables = encoder.trainable_variables + decoder.trainable_variables\n",
        "\n",
        "  gradients = tape.gradient(loss, trainable_variables)\n",
        "\n",
        "  optimizer.apply_gradients(zip(gradients, trainable_variables))\n",
        "\n",
        "  return loss, total_loss"
      ],
      "execution_count": 40,
      "outputs": []
    },
    {
      "cell_type": "code",
      "metadata": {
        "id": "7nkuJ7nMrc7R",
        "colab_type": "code",
        "colab": {
          "base_uri": "https://localhost:8080/",
          "height": 1000
        },
        "outputId": "fe58e061-59bb-489f-9d8e-afabb6196fdb"
      },
      "source": [
        "EPOCHS = 20\n",
        "\n",
        "for epoch in range(start_epoch, EPOCHS):\n",
        "    start = time.time()\n",
        "    total_loss = 0\n",
        "\n",
        "    for (batch, (img_tensor, target)) in enumerate(dataset):\n",
        "        batch_loss, t_loss = train_step(img_tensor, target)\n",
        "        total_loss += t_loss\n",
        "\n",
        "        if batch % 100 == 0:\n",
        "            print ('Epoch {} Batch {} Loss {:.4f}'.format(\n",
        "              epoch + 1, batch, batch_loss.numpy() / int(target.shape[1])))\n",
        "    # storing the epoch end loss value to plot later\n",
        "    loss_plot.append(total_loss / num_steps)\n",
        "\n",
        "    if epoch % 5 == 0:\n",
        "      ckpt_manager.save()\n",
        "\n",
        "    print ('Epoch {} Loss {:.6f}'.format(epoch + 1,\n",
        "                                         total_loss/num_steps))\n",
        "    print ('Time taken for 1 epoch {} sec\\n'.format(time.time() - start))"
      ],
      "execution_count": 41,
      "outputs": [
        {
          "output_type": "stream",
          "text": [
            "Epoch 1 Batch 0 Loss 2.0347\n",
            "Epoch 1 Batch 100 Loss 1.1169\n",
            "Epoch 1 Batch 200 Loss 1.0226\n",
            "Epoch 1 Batch 300 Loss 0.9188\n",
            "Epoch 1 Loss 1.035350\n",
            "Time taken for 1 epoch 384.2486400604248 sec\n",
            "\n",
            "Epoch 2 Batch 0 Loss 0.8182\n",
            "Epoch 2 Batch 100 Loss 0.7905\n",
            "Epoch 2 Batch 200 Loss 0.8029\n",
            "Epoch 2 Batch 300 Loss 0.7522\n",
            "Epoch 2 Loss 0.788569\n",
            "Time taken for 1 epoch 364.54731845855713 sec\n",
            "\n",
            "Epoch 3 Batch 0 Loss 0.7561\n",
            "Epoch 3 Batch 100 Loss 0.7305\n",
            "Epoch 3 Batch 200 Loss 0.7022\n",
            "Epoch 3 Batch 300 Loss 0.6717\n",
            "Epoch 3 Loss 0.718650\n",
            "Time taken for 1 epoch 361.46533823013306 sec\n",
            "\n",
            "Epoch 4 Batch 0 Loss 0.6805\n",
            "Epoch 4 Batch 100 Loss 0.7129\n",
            "Epoch 4 Batch 200 Loss 0.6944\n",
            "Epoch 4 Batch 300 Loss 0.6713\n",
            "Epoch 4 Loss 0.674382\n",
            "Time taken for 1 epoch 361.1406579017639 sec\n",
            "\n",
            "Epoch 5 Batch 0 Loss 0.6861\n",
            "Epoch 5 Batch 100 Loss 0.6625\n",
            "Epoch 5 Batch 200 Loss 0.6056\n",
            "Epoch 5 Batch 300 Loss 0.6180\n",
            "Epoch 5 Loss 0.638783\n",
            "Time taken for 1 epoch 360.81355905532837 sec\n",
            "\n",
            "Epoch 6 Batch 0 Loss 0.5877\n",
            "Epoch 6 Batch 100 Loss 0.5940\n",
            "Epoch 6 Batch 200 Loss 0.6480\n",
            "Epoch 6 Batch 300 Loss 0.6497\n",
            "Epoch 6 Loss 0.606707\n",
            "Time taken for 1 epoch 360.720027923584 sec\n",
            "\n",
            "Epoch 7 Batch 0 Loss 0.5772\n",
            "Epoch 7 Batch 100 Loss 0.5842\n",
            "Epoch 7 Batch 200 Loss 0.5533\n",
            "Epoch 7 Batch 300 Loss 0.5663\n",
            "Epoch 7 Loss 0.576864\n",
            "Time taken for 1 epoch 359.5106165409088 sec\n",
            "\n",
            "Epoch 8 Batch 0 Loss 0.5564\n",
            "Epoch 8 Batch 100 Loss 0.5659\n",
            "Epoch 8 Batch 200 Loss 0.5014\n",
            "Epoch 8 Batch 300 Loss 0.5426\n",
            "Epoch 8 Loss 0.546408\n",
            "Time taken for 1 epoch 360.11392307281494 sec\n",
            "\n",
            "Epoch 9 Batch 0 Loss 0.5467\n",
            "Epoch 9 Batch 100 Loss 0.4911\n",
            "Epoch 9 Batch 200 Loss 0.4880\n",
            "Epoch 9 Batch 300 Loss 0.4781\n",
            "Epoch 9 Loss 0.518707\n",
            "Time taken for 1 epoch 359.9657802581787 sec\n",
            "\n",
            "Epoch 10 Batch 0 Loss 0.5177\n",
            "Epoch 10 Batch 100 Loss 0.5296\n",
            "Epoch 10 Batch 200 Loss 0.5230\n",
            "Epoch 10 Batch 300 Loss 0.4625\n",
            "Epoch 10 Loss 0.493554\n",
            "Time taken for 1 epoch 359.9125289916992 sec\n",
            "\n",
            "Epoch 11 Batch 0 Loss 0.4681\n",
            "Epoch 11 Batch 100 Loss 0.5306\n",
            "Epoch 11 Batch 200 Loss 0.3965\n",
            "Epoch 11 Batch 300 Loss 0.4508\n",
            "Epoch 11 Loss 0.465794\n",
            "Time taken for 1 epoch 359.2358090877533 sec\n",
            "\n",
            "Epoch 12 Batch 0 Loss 0.4781\n",
            "Epoch 12 Batch 100 Loss 0.4556\n",
            "Epoch 12 Batch 200 Loss 0.3974\n",
            "Epoch 12 Batch 300 Loss 0.4219\n",
            "Epoch 12 Loss 0.437594\n",
            "Time taken for 1 epoch 361.1048972606659 sec\n",
            "\n",
            "Epoch 13 Batch 0 Loss 0.4438\n",
            "Epoch 13 Batch 100 Loss 0.4149\n",
            "Epoch 13 Batch 200 Loss 0.4321\n",
            "Epoch 13 Batch 300 Loss 0.4028\n",
            "Epoch 13 Loss 0.411967\n",
            "Time taken for 1 epoch 359.6700134277344 sec\n",
            "\n",
            "Epoch 14 Batch 0 Loss 0.4045\n",
            "Epoch 14 Batch 100 Loss 0.4353\n",
            "Epoch 14 Batch 200 Loss 0.3830\n",
            "Epoch 14 Batch 300 Loss 0.3477\n",
            "Epoch 14 Loss 0.387419\n",
            "Time taken for 1 epoch 361.47451615333557 sec\n",
            "\n",
            "Epoch 15 Batch 0 Loss 0.4081\n",
            "Epoch 15 Batch 100 Loss 0.3542\n",
            "Epoch 15 Batch 200 Loss 0.3590\n",
            "Epoch 15 Batch 300 Loss 0.3290\n",
            "Epoch 15 Loss 0.366075\n",
            "Time taken for 1 epoch 359.77848982810974 sec\n",
            "\n",
            "Epoch 16 Batch 0 Loss 0.3777\n",
            "Epoch 16 Batch 100 Loss 0.3998\n",
            "Epoch 16 Batch 200 Loss 0.3551\n",
            "Epoch 16 Batch 300 Loss 0.3194\n",
            "Epoch 16 Loss 0.343852\n",
            "Time taken for 1 epoch 360.1919643878937 sec\n",
            "\n",
            "Epoch 17 Batch 0 Loss 0.3328\n",
            "Epoch 17 Batch 100 Loss 0.3355\n",
            "Epoch 17 Batch 200 Loss 0.3410\n",
            "Epoch 17 Batch 300 Loss 0.3329\n",
            "Epoch 17 Loss 0.322548\n",
            "Time taken for 1 epoch 359.49986481666565 sec\n",
            "\n",
            "Epoch 18 Batch 0 Loss 0.3337\n",
            "Epoch 18 Batch 100 Loss 0.3379\n",
            "Epoch 18 Batch 200 Loss 0.3023\n",
            "Epoch 18 Batch 300 Loss 0.2735\n",
            "Epoch 18 Loss 0.303014\n",
            "Time taken for 1 epoch 359.6817500591278 sec\n",
            "\n",
            "Epoch 19 Batch 0 Loss 0.3114\n",
            "Epoch 19 Batch 100 Loss 0.3070\n",
            "Epoch 19 Batch 200 Loss 0.2577\n",
            "Epoch 19 Batch 300 Loss 0.2753\n",
            "Epoch 19 Loss 0.283691\n",
            "Time taken for 1 epoch 359.5360174179077 sec\n",
            "\n",
            "Epoch 20 Batch 0 Loss 0.3224\n",
            "Epoch 20 Batch 100 Loss 0.2844\n",
            "Epoch 20 Batch 200 Loss 0.2558\n",
            "Epoch 20 Batch 300 Loss 0.2511\n",
            "Epoch 20 Loss 0.266423\n",
            "Time taken for 1 epoch 359.49234080314636 sec\n",
            "\n"
          ],
          "name": "stdout"
        }
      ]
    },
    {
      "cell_type": "code",
      "metadata": {
        "id": "eGO-xva2rfsR",
        "colab_type": "code",
        "colab": {
          "base_uri": "https://localhost:8080/",
          "height": 295
        },
        "outputId": "66a3c6e6-cb5a-49ef-abd1-086b323eeafe"
      },
      "source": [
        "#plotting loss\n",
        "plt.plot(loss_plot)\n",
        "plt.xlabel('Epochs')\n",
        "plt.ylabel('Loss')\n",
        "plt.title('Loss Plot')\n",
        "plt.show()"
      ],
      "execution_count": 42,
      "outputs": [
        {
          "output_type": "display_data",
          "data": {
            "image/png": "[encoded data removed]",
            "text/plain": [
              "<Figure size 432x288 with 1 Axes>"
            ]
          },
          "metadata": {
            "tags": [],
            "needs_background": "light"
          }
        }
      ]
    },
    {
      "cell_type": "markdown",
      "metadata": {
        "id": "4clz9GC3t3gw",
        "colab_type": "text"
      },
      "source": [
        "## Captioning\n",
        "\n",
        " No teacher forcing is used. The input to the decoder at each time step is its previous predictions along with the hidden state and the encoder output.\n",
        " Prediction stops when end token is predicted."
      ]
    },
    {
      "cell_type": "code",
      "metadata": {
        "id": "zQyKCVq7s3N4",
        "colab_type": "code",
        "colab": {}
      },
      "source": [
        "def evaluate(image):\n",
        "    attention_plot = np.zeros((max_length, attention_features_shape))\n",
        "\n",
        "    hidden = decoder.reset_state(batch_size=1)\n",
        "\n",
        "    temp_input = tf.expand_dims(load_image(image)[0], 0)\n",
        "    img_tensor_val = image_features_extract_model(temp_input)\n",
        "    img_tensor_val = tf.reshape(img_tensor_val, (img_tensor_val.shape[0], -1, img_tensor_val.shape[3]))\n",
        "\n",
        "    features = encoder(img_tensor_val)\n",
        "\n",
        "    dec_input = tf.expand_dims([tokenizer.word_index['<start>']], 0)\n",
        "    result = []\n",
        "\n",
        "    for i in range(max_length):\n",
        "        predictions, hidden, attention_weights = decoder(dec_input, features, hidden)\n",
        "\n",
        "        attention_plot[i] = tf.reshape(attention_weights, (-1, )).numpy()\n",
        "\n",
        "        predicted_id = tf.random.categorical(predictions, 1)[0][0].numpy()\n",
        "        result.append(tokenizer.index_word[predicted_id])\n",
        "\n",
        "        if tokenizer.index_word[predicted_id] == '<end>':\n",
        "          #if model predicts the end token return\n",
        "            return result, attention_plot\n",
        "\n",
        "        dec_input = tf.expand_dims([predicted_id], 0)\n",
        "\n",
        "    attention_plot = attention_plot[:len(result), :]\n",
        "    return result, attention_plot"
      ],
      "execution_count": 44,
      "outputs": []
    },
    {
      "cell_type": "code",
      "metadata": {
        "id": "ZUVvT-AHuL8h",
        "colab_type": "code",
        "colab": {}
      },
      "source": [
        "def plot_attention(image, result, attention_plot):\n",
        "    temp_image = np.array(Image.open(image))\n",
        "\n",
        "    fig = plt.figure(figsize=(10, 10))\n",
        "\n",
        "    len_result = len(result)\n",
        "    for l in range(len_result):\n",
        "        temp_att = np.resize(attention_plot[l], (8, 8))\n",
        "        ax = fig.add_subplot(len_result//2, len_result//2, l+1)\n",
        "        ax.set_title(result[l])\n",
        "        img = ax.imshow(temp_image)\n",
        "        ax.imshow(temp_att, cmap='gray', alpha=0.6, extent=img.get_extent())\n",
        "\n",
        "    plt.tight_layout()\n",
        "    plt.show()"
      ],
      "execution_count": 45,
      "outputs": []
    },
    {
      "cell_type": "code",
      "metadata": {
        "id": "U5fembRVuRG4",
        "colab_type": "code",
        "colab": {
          "base_uri": "https://localhost:8080/",
          "height": 299
        },
        "outputId": "0ab85fac-c622-489b-ef68-56085b997950"
      },
      "source": [
        "# captions on the validation set\n",
        "rid = np.random.randint(0, len(img_name_val))\n",
        "image = img_name_val[rid]\n",
        "real_caption = ' '.join([tokenizer.index_word[i] for i in cap_val[rid] if i not in [0]])\n",
        "result, attention_plot = evaluate(image)\n",
        "\n",
        "print ('Real Caption:', real_caption)\n",
        "print ('Prediction Caption:', ' '.join(result))\n",
        "plot_attention(image, result, attention_plot)\n"
      ],
      "execution_count": 46,
      "outputs": [
        {
          "output_type": "stream",
          "text": [
            "Real Caption: <start> there is a man and a woman sitting on two couches <end>\n",
            "Prediction Caption: the sun with a sheet <unk> in the room <end>\n"
          ],
          "name": "stdout"
        },
        {
          "output_type": "display_data",
          "data": {
            "image/png": "[encoded data removed]",
            "text/plain": [
              "<Figure size 720x720 with 10 Axes>"
            ]
          },
          "metadata": {
            "tags": [],
            "needs_background": "light"
          }
        }
      ]
    }
  ]
}